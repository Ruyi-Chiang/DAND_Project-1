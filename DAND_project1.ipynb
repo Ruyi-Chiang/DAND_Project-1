{
 "cells": [
  {
   "cell_type": "markdown",
   "metadata": {},
   "source": [
    "### Questions For Investigation\n",
    "\n",
    "#### 1. What is our independent variable? What is our dependent variable?\n",
    "\n",
    "* independent variable: congruent vs. incongruent conditions\n",
    "* dependent variable: the time it takes to name the ink colors in equally-sized lists.\n",
    "\n",
    "#### 2. What is an appropriate set of hypotheses for this task? What kind of statistical test do you expect to perform? Justify your choices.\n",
    "##### Symbolic statement\n",
    "  * X̅c = congruent sample mean\n",
    "  * X̅i = incongruent sample mean\n",
    "  * μC = congruent population mean\n",
    "  * μI = incongruent population mean\n",
    "\n",
    "##### Q2a:\n",
    "* Null hypothes\n",
    "\n",
    "** Ho: μC = μI ** \n",
    "Time spent on congruent condition = Time spent on incongruent conditions\n",
    "* Alternative hypothes\n",
    "\n",
    "** H1: μC < μI **\n",
    "Time spent on congruent condition < Time spent on incongruent conditions\n",
    "will take longer time to name the ink colors.\n",
    "\n",
    "##### Q2b: Statistical test I chose - One-tailed t-test with paired samples. \n",
    "\n",
    "1. The test is directional. \n",
    "The reason is that I assume the incongruent conditions would cause more confusion for objects and take longer time to name ink colors while conducting the experiment.\n",
    "\n",
    "2. Using T-test\n",
    "I don't know the population mean of congruent and incongruent conditions and the sample size is below 30. \n",
    "The sample sizes in both congruent and incongruent conditions are 24, which is not big enough.\n",
    "\n",
    "3. Paired samples\n",
    "The experiment is estimating the time spent of an object under 2 conditions, congruent and incongruent conditions. Then compare the difference.\n",
    "\n",
    "#### 3. Report some descriptive statistics regarding this dataset. Include at least one measure of central tendency and at least one measure of variability.\n",
    "** Congruent **\n",
    "* Central Tendency\n",
    "Mean: 14.05\n",
    "Median: 14.36\n",
    "Mode: 22.33\n",
    "\n",
    "* Variability\n",
    "Standard Deviation: 3.56\n",
    "Range: min 8.63- max 22.32\n",
    "\n",
    "**Incongruent**\n",
    "* Central Tendency\n",
    "Mean: 22.02\n",
    "Median: 21.02\n",
    "Mode: 35.26\n",
    "\n",
    "* Variability\n",
    "Standard Deviation: 4.80\n",
    "Range: min 15.69- max 35.26\n",
    "\n"
   ]
  },
  {
   "cell_type": "code",
   "execution_count": 2,
   "metadata": {
    "collapsed": true
   },
   "outputs": [],
   "source": [
    "import pandas as pd\n",
    "import matplotlib.pyplot as plt\n",
    "import seaborn as sns\n",
    "import math"
   ]
  },
  {
   "cell_type": "code",
   "execution_count": 3,
   "metadata": {
    "collapsed": false
   },
   "outputs": [
    {
     "data": {
      "text/html": [
       "<div>\n",
       "<table border=\"1\" class=\"dataframe\">\n",
       "  <thead>\n",
       "    <tr style=\"text-align: right;\">\n",
       "      <th></th>\n",
       "      <th>Congruent</th>\n",
       "      <th>Incongruent</th>\n",
       "    </tr>\n",
       "  </thead>\n",
       "  <tbody>\n",
       "    <tr>\n",
       "      <th>count</th>\n",
       "      <td>24.000000</td>\n",
       "      <td>24.000000</td>\n",
       "    </tr>\n",
       "    <tr>\n",
       "      <th>mean</th>\n",
       "      <td>14.051125</td>\n",
       "      <td>22.015917</td>\n",
       "    </tr>\n",
       "    <tr>\n",
       "      <th>std</th>\n",
       "      <td>3.559358</td>\n",
       "      <td>4.797057</td>\n",
       "    </tr>\n",
       "    <tr>\n",
       "      <th>min</th>\n",
       "      <td>8.630000</td>\n",
       "      <td>15.687000</td>\n",
       "    </tr>\n",
       "    <tr>\n",
       "      <th>25%</th>\n",
       "      <td>11.895250</td>\n",
       "      <td>18.716750</td>\n",
       "    </tr>\n",
       "    <tr>\n",
       "      <th>50%</th>\n",
       "      <td>14.356500</td>\n",
       "      <td>21.017500</td>\n",
       "    </tr>\n",
       "    <tr>\n",
       "      <th>75%</th>\n",
       "      <td>16.200750</td>\n",
       "      <td>24.051500</td>\n",
       "    </tr>\n",
       "    <tr>\n",
       "      <th>max</th>\n",
       "      <td>22.328000</td>\n",
       "      <td>35.255000</td>\n",
       "    </tr>\n",
       "  </tbody>\n",
       "</table>\n",
       "</div>"
      ],
      "text/plain": [
       "       Congruent  Incongruent\n",
       "count  24.000000    24.000000\n",
       "mean   14.051125    22.015917\n",
       "std     3.559358     4.797057\n",
       "min     8.630000    15.687000\n",
       "25%    11.895250    18.716750\n",
       "50%    14.356500    21.017500\n",
       "75%    16.200750    24.051500\n",
       "max    22.328000    35.255000"
      ]
     },
     "execution_count": 3,
     "metadata": {},
     "output_type": "execute_result"
    }
   ],
   "source": [
    "df = pd.read_csv('stroopdata.csv')\n",
    "df.describe()"
   ]
  },
  {
   "cell_type": "markdown",
   "metadata": {},
   "source": [
    "#### 4. Provide one or two visualizations that show the distribution of the sample data. Write one or two sentences noting what you observe about the plot or plots."
   ]
  },
  {
   "cell_type": "code",
   "execution_count": 4,
   "metadata": {
    "collapsed": false
   },
   "outputs": [
    {
     "data": {
      "text/plain": [
       "array([[<matplotlib.axes._subplots.AxesSubplot object at 0x1169e2450>,\n",
       "        <matplotlib.axes._subplots.AxesSubplot object at 0x118ed8610>]], dtype=object)"
      ]
     },
     "execution_count": 4,
     "metadata": {},
     "output_type": "execute_result"
    },
    {
     "data": {
      "image/png": "[encoded data removed]",
      "text/plain": [
       "<matplotlib.figure.Figure at 0x116a86f10>"
      ]
     },
     "metadata": {},
     "output_type": "display_data"
    }
   ],
   "source": [
    "%matplotlib inline\n",
    "df.hist(bins=4, range=[0,40])"
   ]
  },
  {
   "cell_type": "markdown",
   "metadata": {},
   "source": [
    "** Observation **\n",
    "\n",
    "Time spent under congruent words conditions tends to be positivly skewed distribution. On the other hand, time spent under incongruent distribution is negatively skewed distribution. \n",
    "We may conclude that people encounter the congruent words condition take less time to name the ink color than people encounter the incongruent words condition.  "
   ]
  },
  {
   "cell_type": "markdown",
   "metadata": {
    "collapsed": false
   },
   "source": [
    "\n",
    "#### 5. Now, perform the statistical test and report your results. What is your confidence level and your critical statistic value? Do you reject the null hypothesis or fail to reject it? Come to a conclusion in terms of the experiment task. Did the results match up with your expectations?\n",
    "* Null hypothes\n",
    "Time spent on congruent condition = Time spent on incongruent conditions\n",
    "* Alternative hypothes\n",
    "Time spent on congruent condition < Time spent on incongruent conditions\n",
    "will take longer time to name the ink colors.\n",
    "* Statistical test: \n",
    "One-tailed test. The reason is that I assume the incongruent conditions would cause more confusion for objects and take longer time to name ink colors while conducting the experiment.\n",
    "\n",
    "\n",
    "* Confidence level - 0.05 (5%)\n",
    "* Degree of freedom = 24 - 1 = 23\n",
    "* Critical value(t critical value) based on t-table = 1.714\n",
    "\n",
    "** Congruent **\n",
    "* Central Tendency\n",
    "Mean: 14.05\n",
    "Median: 14.36\n",
    "Mode: 22.33\n",
    "\n",
    "* Variability\n",
    "Standard Deviation: 3.56\n",
    "Range: min 8.63- max 22.32\n",
    "\n",
    "**Incongruent**\n",
    "* Central Tendency\n",
    "Mean: 22.02\n",
    "Median: 21.02\n",
    "Mode: 35.26\n",
    "\n",
    "* Variability\n",
    "Standard Deviation: 4.80\n",
    "Range: min 15.69- max 35.26\n",
    "\n"
   ]
  },
  {
   "cell_type": "code",
   "execution_count": 5,
   "metadata": {
    "collapsed": false
   },
   "outputs": [
    {
     "name": "stdout",
     "output_type": "stream",
     "text": [
      "    Congruent  Incongruent\n",
      "0      12.079       19.278\n",
      "1      16.791       18.741\n",
      "2       9.564       21.214\n",
      "3       8.630       15.687\n",
      "4      14.669       22.803\n",
      "5      12.238       20.878\n",
      "6      14.692       24.572\n",
      "7       8.987       17.394\n",
      "8       9.401       20.762\n",
      "9      14.480       26.282\n",
      "10     22.328       24.524\n",
      "11     15.298       18.644\n",
      "12     15.073       17.510\n",
      "13     16.929       20.330\n",
      "14     18.200       35.255\n",
      "15     12.130       22.158\n",
      "16     18.495       25.139\n",
      "17     10.639       20.429\n",
      "18     11.344       17.425\n",
      "19     12.369       34.288\n",
      "20     12.944       23.894\n",
      "21     14.233       17.960\n",
      "22     19.710       22.058\n",
      "23     16.004       21.157\n"
     ]
    }
   ],
   "source": [
    "df_difference = df['Congruent'] -"
   ]
  },
  {
   "cell_type": "code",
   "execution_count": 6,
   "metadata": {
    "collapsed": false
   },
   "outputs": [
    {
     "name": "stdout",
     "output_type": "stream",
     "text": [
      "SEM: 0.726681957026\n",
      "T score ofincongruent: 10.9676591292\n",
      "T score > T critical value(1.714)\n",
      "Result: Reject the null\n"
     ]
    }
   ],
   "source": [
    "# Statistical calculation\n",
    "# SEM: Standard error of mean\n",
    "SEM = 3.56 / math.sqrt(24)\n",
    "print 'SEM: %s' % SEM\n",
    "t_score_of_incongruent = (22.02 - 14.05) / SEM\n",
    "print 'T score ofincongruent: %s' %t_score_of_incongruent\n",
    "print 'T score > T critical value(1.714)'\n",
    "print 'Result: Reject the null'\n"
   ]
  },
  {
   "cell_type": "markdown",
   "metadata": {},
   "source": [
    "** Conclusion **\n",
    "\n",
    "the incongruent conditions would cause more confusion for objects and take longer time to name ink colors while conducting the experiment."
   ]
  },
  {
   "cell_type": "markdown",
   "metadata": {},
   "source": [
    "\n",
    "#### 6. Optional: What do you think is responsible for the effects observed? Can you think of an alternative or similar task that would result in a similar effect? Some research about the problem will be helpful for thinking about these two questions!"
   ]
  },
  {
   "cell_type": "code",
   "execution_count": null,
   "metadata": {
    "collapsed": true
   },
   "outputs": [],
   "source": []
  }
 ],
 "metadata": {
  "kernelspec": {
   "display_name": "Python 2",
   "language": "python",
   "name": "python2"
  },
  "language_info": {
   "codemirror_mode": {
    "name": "ipython",
    "version": 2
   },
   "file_extension": ".py",
   "mimetype": "text/x-python",
   "name": "python",
   "nbconvert_exporter": "python",
   "pygments_lexer": "ipython2",
   "version": "2.7.10"
  }
 },
 "nbformat": 4,
 "nbformat_minor": 0
}
